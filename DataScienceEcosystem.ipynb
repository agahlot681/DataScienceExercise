{
 "cells": [
  {
   "cell_type": "markdown",
   "id": "6f69a699",
   "metadata": {},
   "source": [
    "# Data Science Tools and Ecosystem"
   ]
  },
  {
   "cell_type": "markdown",
   "id": "ad710a25",
   "metadata": {},
   "source": [
    "## In this notebook, Data Science Tools and Ecosystem are summarized"
   ]
  },
  {
   "cell_type": "markdown",
   "id": "2d3594e8",
   "metadata": {},
   "source": [
    "### Some of the popular languages that Data Scientists use are:\n",
    "__Objectives:__\n",
    "* Python\n",
    "* R\n",
    "* Javascript"
   ]
  },
  {
   "cell_type": "markdown",
   "id": "7882a916",
   "metadata": {},
   "source": [
    "### Some of the commobly used libraries used by Data Scientists include:\n",
    "1. Panda\n",
    "2. Numpy\n",
    "3. Matplotlib\n"
   ]
  },
  {
   "cell_type": "markdown",
   "id": "d056f171",
   "metadata": {},
   "source": [
    "### Data Science Tools\n",
    "|Data Science Tools|\n",
    "|------------------|\n",
    "|TensorFlow|\n",
    "|scikit-learn|\n",
    "|SQLAlchemy|"
   ]
  },
  {
   "cell_type": "markdown",
   "id": "439aea48",
   "metadata": {},
   "source": [
    "### Below are a few examples of evaluating arithmetic expressions in Python\n"
   ]
  },
  {
   "cell_type": "code",
   "execution_count": 3,
   "id": "a93c8f02",
   "metadata": {},
   "outputs": [
    {
     "data": {
      "text/plain": [
       "17"
      ]
     },
     "execution_count": 3,
     "metadata": {},
     "output_type": "execute_result"
    }
   ],
   "source": [
    "# This is a simple arithmetic expression to multiply then add integers\n",
    "(3*4)+5"
   ]
  },
  {
   "cell_type": "code",
   "execution_count": 4,
   "id": "9778191f",
   "metadata": {},
   "outputs": [
    {
     "name": "stdout",
     "output_type": "stream",
     "text": [
      "3.3333333333333335\n"
     ]
    }
   ],
   "source": [
    "# ths will convert 200 minutes to hours by dividing by 60\n",
    "minutes=200\n",
    "hours= minutes/60\n",
    "print(hours)"
   ]
  },
  {
   "cell_type": "markdown",
   "id": "165cd58c",
   "metadata": {},
   "source": [
    "## Author\n",
    "Abhijeet Gahlot"
   ]
  },
  {
   "cell_type": "code",
   "execution_count": null,
   "id": "522ba23f",
   "metadata": {},
   "outputs": [],
   "source": []
  }
 ],
 "metadata": {
  "kernelspec": {
   "display_name": "Python 3 (ipykernel)",
   "language": "python",
   "name": "python3"
  },
  "language_info": {
   "codemirror_mode": {
    "name": "ipython",
    "version": 3
   },
   "file_extension": ".py",
   "mimetype": "text/x-python",
   "name": "python",
   "nbconvert_exporter": "python",
   "pygments_lexer": "ipython3",
   "version": "3.11.4"
  }
 },
 "nbformat": 4,
 "nbformat_minor": 5
}
